{
  "nbformat": 4,
  "nbformat_minor": 0,
  "metadata": {
    "colab": {
      "provenance": []
    },
    "kernelspec": {
      "name": "python3",
      "display_name": "Python 3"
    },
    "language_info": {
      "name": "python"
    }
  },
  "cells": [
    {
      "cell_type": "code",
      "execution_count": null,
      "metadata": {
        "colab": {
          "base_uri": "https://localhost:8080/"
        },
        "id": "AnMqNmYFGhwD",
        "outputId": "544d86ba-930a-4782-972c-70ae451035b0"
      },
      "outputs": [
        {
          "output_type": "stream",
          "name": "stdout",
          "text": [
            "score: 0.5\n",
            "predictions: [0 0 0 0]\n",
            "expected: [0 1 1 0]\n"
          ]
        }
      ],
      "source": [
        "import numpy as np\n",
        "from sklearn.neural_network import MLPClassifier\n",
        "xs = np.array([\n",
        "    [0, 0],\n",
        "    [0, 1],\n",
        "    [1, 0],\n",
        "    [1, 1]\n",
        "])\n",
        "\n",
        "ys = np.array([0,1,1,0])\n",
        "model = MLPClassifier(\n",
        "    activation='logistic',\n",
        "    max_iter=10000,\n",
        "    learning_rate_init=0.0001,\n",
        "    hidden_layer_sizes=(3)\n",
        ")\n",
        "\n",
        "model.fit(xs, ys)\n",
        "print('score:', model.score(xs, ys))\n",
        "print('predictions:', model.predict(xs))\n",
        "print('expected:', np.array([0, 1, 1, 0]))"
      ]
    },
    {
      "cell_type": "code",
      "source": [
        "#Experiment with different activation functions\n",
        "\n",
        "import numpy as np\n",
        "from sklearn.neural_network import MLPClassifier\n",
        "\n",
        "xs = np.array([\n",
        "    [0, 0],\n",
        "    [0, 1],\n",
        "    [1, 0],\n",
        "    [1, 1]\n",
        "])\n",
        "\n",
        "ys = np.array([0, 1, 1, 0])\n",
        "activation_functions = ['identity','logistic', 'tanh', 'relu']\n",
        "\n",
        "for activation_function in activation_functions:\n",
        "    model = MLPClassifier(\n",
        "        activation=activation_function,\n",
        "        max_iter=10000,\n",
        "        learning_rate_init=0.0001,\n",
        "        hidden_layer_sizes=(3)\n",
        "    )\n",
        "\n",
        "    model.fit(xs, ys)\n",
        "    print(f'\\nActivation Function: {activation_function}')\n",
        "    print('Score:', model.score(xs, ys))\n",
        "    print('Predictions:', model.predict(xs))\n",
        "    print('Expected:', np.array([0, 1, 1, 0]))\n"
      ],
      "metadata": {
        "colab": {
          "base_uri": "https://localhost:8080/"
        },
        "id": "yGheiuXOJJwT",
        "outputId": "c92baf7e-9a99-4f66-b1c3-afc3f1aa8bb1"
      },
      "execution_count": null,
      "outputs": [
        {
          "output_type": "stream",
          "name": "stdout",
          "text": [
            "\n",
            "Activation Function: identity\n",
            "Score: 0.5\n",
            "Predictions: [0 0 0 0]\n",
            "Expected: [0 1 1 0]\n",
            "\n",
            "Activation Function: logistic\n",
            "Score: 0.75\n",
            "Predictions: [0 0 1 0]\n",
            "Expected: [0 1 1 0]\n",
            "\n",
            "Activation Function: tanh\n",
            "Score: 0.5\n",
            "Predictions: [1 1 1 1]\n",
            "Expected: [0 1 1 0]\n",
            "\n",
            "Activation Function: relu\n",
            "Score: 0.25\n",
            "Predictions: [1 0 0 0]\n",
            "Expected: [0 1 1 0]\n"
          ]
        }
      ]
    },
    {
      "cell_type": "code",
      "source": [
        "#Experiment with different learning rates and report your results.\n",
        "import numpy as np\n",
        "from sklearn.neural_network import MLPClassifier\n",
        "xs = np.array([\n",
        "    [0, 0],\n",
        "    [0, 1],\n",
        "    [1, 0],\n",
        "    [1, 1]\n",
        "])\n",
        "\n",
        "ys = np.array([0,1,1,0])\n",
        "learning_rates = [0.1, 0.01, 0.001, 0.0001]\n",
        "\n",
        "for learning_rate in learning_rates:\n",
        "    model = MLPClassifier(\n",
        "        activation='logistic',\n",
        "        max_iter=10000,\n",
        "        learning_rate_init=learning_rate,\n",
        "        hidden_layer_sizes=(3)\n",
        "    )\n",
        "\n",
        "    model.fit(xs, ys)\n",
        "    print(f'\\nLearning Rate: {learning_rate}')\n",
        "    print('Score:', model.score(xs, ys))\n",
        "    print('Predictions:', model.predict(xs))\n",
        "    print('Expected:', np.array([0, 1, 1, 0]))\n"
      ],
      "metadata": {
        "colab": {
          "base_uri": "https://localhost:8080/"
        },
        "id": "a3JeLSVZKBo8",
        "outputId": "a555f67c-cd4f-45b5-a9ba-3614bc260e96"
      },
      "execution_count": null,
      "outputs": [
        {
          "output_type": "stream",
          "name": "stdout",
          "text": [
            "\n",
            "Learning Rate: 0.1\n",
            "Score: 0.75\n",
            "Predictions: [0 1 1 1]\n",
            "Expected: [0 1 1 0]\n",
            "\n",
            "Learning Rate: 0.01\n",
            "Score: 0.25\n",
            "Predictions: [1 0 0 0]\n",
            "Expected: [0 1 1 0]\n",
            "\n",
            "Learning Rate: 0.001\n",
            "Score: 0.5\n",
            "Predictions: [0 0 0 0]\n",
            "Expected: [0 1 1 0]\n",
            "\n",
            "Learning Rate: 0.0001\n",
            "Score: 0.5\n",
            "Predictions: [1 1 1 1]\n",
            "Expected: [0 1 1 0]\n"
          ]
        }
      ]
    },
    {
      "cell_type": "code",
      "source": [
        "#Experiment with a different number of iterations and report your results.\n",
        "import numpy as np\n",
        "from sklearn.neural_network import MLPClassifier\n",
        "\n",
        "xs = np.array([\n",
        "    [0, 0],\n",
        "    [0, 1],\n",
        "    [1, 0],\n",
        "    [1, 1]\n",
        "])\n",
        "\n",
        "ys = np.array([0, 1, 1, 0])\n",
        "iterations = [100, 500, 1000, 5000]\n",
        "for max_iter in iteration_numbers:\n",
        "    model = MLPClassifier(\n",
        "        activation='logistic',\n",
        "        max_iter=max_iter,\n",
        "        learning_rate_init=0.0001,\n",
        "        hidden_layer_sizes=(3)\n",
        "    )\n",
        "\n",
        "    model.fit(xs, ys)\n",
        "    print(f'\\nNumber of Iterations: {max_iter}')\n",
        "    print('Score:', model.score(xs, ys))\n",
        "    print('Predictions:', model.predict(xs))\n",
        "    print('Expected:', np.array([0, 1, 1, 0]))"
      ],
      "metadata": {
        "colab": {
          "base_uri": "https://localhost:8080/"
        },
        "id": "TA0-5SXqKn_7",
        "outputId": "7406090e-7ef7-4832-e284-af039f720a6e"
      },
      "execution_count": null,
      "outputs": [
        {
          "output_type": "stream",
          "name": "stdout",
          "text": [
            "\n",
            "Number of Iterations: 100\n",
            "Score: 0.5\n",
            "Predictions: [0 0 0 0]\n",
            "Expected: [0 1 1 0]\n",
            "\n",
            "Number of Iterations: 500\n",
            "Score: 0.5\n",
            "Predictions: [1 1 1 1]\n",
            "Expected: [0 1 1 0]\n",
            "\n",
            "Number of Iterations: 1000\n",
            "Score: 0.5\n",
            "Predictions: [0 0 0 0]\n",
            "Expected: [0 1 1 0]\n",
            "\n",
            "Number of Iterations: 5000\n",
            "Score: 0.5\n",
            "Predictions: [1 1 1 1]\n",
            "Expected: [0 1 1 0]\n"
          ]
        }
      ]
    },
    {
      "cell_type": "code",
      "source": [
        "#Eeriment with different numbers of layers and the number of neurons to find your solu\u0002tions and report your results.\n",
        "\n",
        "import numpy as np\n",
        "from sklearn.neural_network import MLPClassifier\n",
        "\n",
        "xs = np.array([\n",
        "    [0, 0],\n",
        "    [0, 1],\n",
        "    [1, 0],\n",
        "    [1, 1]\n",
        "])\n",
        "\n",
        "ys = np.array([0, 1, 1, 0])\n",
        "layer_configs = [\n",
        "    (3,),\n",
        "    (5,),\n",
        "    (2, 2),\n",
        "    (4, 3),\n",
        "]\n",
        "\n",
        "for hidden_layer_sizes in layer_configs:\n",
        "    model = MLPClassifier(\n",
        "        activation='logistic',\n",
        "        max_iter=10000,\n",
        "        learning_rate_init=0.0001,\n",
        "        hidden_layer_sizes=hidden_layer_sizes\n",
        "    )\n",
        "\n",
        "    model.fit(xs, ys)\n",
        "    print(f'\\nHidden Layer Configuration: {hidden_layer_sizes}')\n",
        "    print('Score:', model.score(xs, ys))\n",
        "    print('Predictions:', model.predict(xs))\n",
        "    print('Expected:', np.array([0, 1, 1, 0]))"
      ],
      "metadata": {
        "colab": {
          "base_uri": "https://localhost:8080/"
        },
        "id": "GPHlaxYkLKed",
        "outputId": "d044038d-14f3-4223-9175-cff8aae3cc5a"
      },
      "execution_count": null,
      "outputs": [
        {
          "output_type": "stream",
          "name": "stdout",
          "text": [
            "\n",
            "Hidden Layer Configuration: (3,)\n",
            "Score: 0.5\n",
            "Predictions: [1 1 1 1]\n",
            "Expected: [0 1 1 0]\n",
            "\n",
            "Hidden Layer Configuration: (5,)\n",
            "Score: 0.5\n",
            "Predictions: [0 0 0 0]\n",
            "Expected: [0 1 1 0]\n",
            "\n",
            "Hidden Layer Configuration: (2, 2)\n",
            "Score: 0.5\n",
            "Predictions: [1 1 1 1]\n",
            "Expected: [0 1 1 0]\n",
            "\n",
            "Hidden Layer Configuration: (4, 3)\n",
            "Score: 0.5\n",
            "Predictions: [1 1 1 1]\n",
            "Expected: [0 1 1 0]\n"
          ]
        }
      ]
    }
  ]
}